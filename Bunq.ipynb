{
  "nbformat": 4,
  "nbformat_minor": 0,
  "metadata": {
    "colab": {
      "name": "Bunq.ipynb",
      "version": "0.3.2",
      "provenance": [],
      "collapsed_sections": [],
      "include_colab_link": true
    },
    "kernelspec": {
      "name": "python3",
      "display_name": "Python 3"
    }
  },
  "cells": [
    {
      "cell_type": "markdown",
      "metadata": {
        "id": "view-in-github",
        "colab_type": "text"
      },
      "source": [
        "<a href=\"https://colab.research.google.com/github/Huangliang0826/DataAnalysis/blob/master/Bunq.ipynb\" target=\"_parent\"><img src=\"https://colab.research.google.com/assets/colab-badge.svg\" alt=\"Open In Colab\"/></a>"
      ]
    },
    {
      "metadata": {
        "id": "k7zbIOY_ZD9g",
        "colab_type": "text"
      },
      "cell_type": "markdown",
      "source": [
        "\n",
        "\n",
        "# Bunq Data Science Intern Assignment\n",
        "\n",
        "Author: Liang Huang. \n",
        "Date: 14 March 2019.\n",
        "Email: liang.huang@student.uva.nl\n",
        "\n",
        "## Objective: \n",
        "\n",
        "### 1. Find an optimal credit assignment given a finite budget.\n",
        "### 2. Maximize the combined ROI (Return of Investment) of the individual campaigns.\n",
        "\n",
        "## My Approach: \n",
        "\n",
        "### 1. Clean the input data. (Data corruption from row 763 to raw 1144).\n",
        "### 2. Visualize the covariance among features.\n",
        "### 3. Feature engineering and build the learning model. (Decision Tree, SVM, K-arm bandit)\n",
        "### 4. Analysis of the results and select the best performing model.\n",
        "### 5. Bring it to production.\n"
      ]
    },
    {
      "metadata": {
        "id": "RCF4vMUSdf4w",
        "colab_type": "text"
      },
      "cell_type": "markdown",
      "source": [
        "### Import the libraries."
      ]
    },
    {
      "metadata": {
        "id": "uFJcIF0cZIa5",
        "colab_type": "code",
        "colab": {}
      },
      "cell_type": "code",
      "source": [
        "import numpy as np\n",
        "import random\n",
        "import math\n",
        "from itertools import *\n",
        "from scipy.stats import norm\n",
        "from collections import namedtuple\n",
        "import matplotlib.pyplot as plt\n",
        "import pandas as pd\n",
        "import seaborn as sn\n",
        "plt.style.use('default')\n",
        "\n",
        "\n",
        "# SK-Learn libraries\n",
        "from sklearn import svm\n",
        "from sklearn import linear_model\n",
        "from sklearn.neural_network import MLPRegressor\n",
        "from sklearn.svm import LinearSVR\n",
        "from sklearn.ensemble import RandomForestRegressor \n",
        "from sklearn.tree import DecisionTreeRegressor\n",
        "from sklearn.model_selection import cross_val_score\n",
        "from sklearn.model_selection import RandomizedSearchCV\n",
        "from sklearn.model_selection import train_test_split\n",
        "from sklearn.preprocessing import MinMaxScaler, Imputer\n",
        "from sklearn.ensemble import AdaBoostRegressor\n",
        "from sklearn.linear_model import LinearRegression\n",
        "from sklearn.gaussian_process import GaussianProcessRegressor\n",
        "from sklearn.gaussian_process.kernels import WhiteKernel, ExpSineSquared\n",
        "from sklearn.preprocessing import PolynomialFeatures\n",
        "from sklearn.linear_model import LinearRegression\n",
        "from sklearn.preprocessing import StandardScaler\n",
        "from sklearn.datasets import make_moons, make_circles, make_classification\n",
        "from sklearn.neural_network import MLPClassifier\n",
        "from sklearn.neighbors import KNeighborsClassifier\n",
        "from sklearn.svm import SVC\n",
        "from sklearn.gaussian_process import GaussianProcessClassifier\n",
        "from sklearn.gaussian_process.kernels import RBF\n",
        "from sklearn.tree import DecisionTreeClassifier\n",
        "from sklearn.ensemble import RandomForestClassifier, AdaBoostClassifier\n",
        "from sklearn.naive_bayes import GaussianNB\n",
        "from sklearn.discriminant_analysis import QuadraticDiscriminantAnalysis\n",
        "from sklearn.metrics import confusion_matrix"
      ],
      "execution_count": 0,
      "outputs": []
    },
    {
      "metadata": {
        "id": "NIe3_8PMdvSC",
        "colab_type": "text"
      },
      "cell_type": "markdown",
      "source": [
        "## 1.1 Imported the cleaned data, display some samples.\n",
        "\n",
        "#### 1. The data is corrupted from row 763 to row 1144, I correct the data by shifting some features two columns to the right, which leads to the campaign_id and fb_campaign_id  data are missing for row 763 to row 1144. \n",
        "\n",
        "#### 2. Since the campaign_id and fb_campaign_id don't matter much for our biding model, so I ignored these two features for the training process.\n"
      ]
    },
    {
      "metadata": {
        "id": "nLeTUwmE95I7",
        "colab_type": "code",
        "outputId": "6f7bd01c-0783-4c59-8f7c-4c934d241b8e",
        "colab": {
          "base_uri": "https://localhost:8080/",
          "height": 305
        }
      },
      "cell_type": "code",
      "source": [
        "# Imported the cleaned data.\n",
        "data_url = 'https://raw.githubusercontent.com/Huangliang0826/DataAnalysis/master/data.csv'\n",
        "data = pd.read_csv(data_url)\n",
        "\n",
        "# Display first five entries.\n",
        "data.head()"
      ],
      "execution_count": 0,
      "outputs": [
        {
          "output_type": "execute_result",
          "data": {
            "text/html": [
              "<div>\n",
              "<style scoped>\n",
              "    .dataframe tbody tr th:only-of-type {\n",
              "        vertical-align: middle;\n",
              "    }\n",
              "\n",
              "    .dataframe tbody tr th {\n",
              "        vertical-align: top;\n",
              "    }\n",
              "\n",
              "    .dataframe thead th {\n",
              "        text-align: right;\n",
              "    }\n",
              "</style>\n",
              "<table border=\"1\" class=\"dataframe\">\n",
              "  <thead>\n",
              "    <tr style=\"text-align: right;\">\n",
              "      <th></th>\n",
              "      <th>ad_id</th>\n",
              "      <th>reporting_start</th>\n",
              "      <th>reporting_end</th>\n",
              "      <th>campaign_id</th>\n",
              "      <th>fb_campaign_id</th>\n",
              "      <th>age</th>\n",
              "      <th>gender</th>\n",
              "      <th>interest1</th>\n",
              "      <th>interest2</th>\n",
              "      <th>interest3</th>\n",
              "      <th>impressions</th>\n",
              "      <th>clicks</th>\n",
              "      <th>spent</th>\n",
              "      <th>total_conversion</th>\n",
              "      <th>approved_conversion</th>\n",
              "    </tr>\n",
              "  </thead>\n",
              "  <tbody>\n",
              "    <tr>\n",
              "      <th>0</th>\n",
              "      <td>708746</td>\n",
              "      <td>17/08/2017</td>\n",
              "      <td>17/08/2017</td>\n",
              "      <td>916.0</td>\n",
              "      <td>103916.0</td>\n",
              "      <td>30-34</td>\n",
              "      <td>M</td>\n",
              "      <td>15</td>\n",
              "      <td>17</td>\n",
              "      <td>17</td>\n",
              "      <td>7350</td>\n",
              "      <td>1</td>\n",
              "      <td>1.43</td>\n",
              "      <td>2</td>\n",
              "      <td>1</td>\n",
              "    </tr>\n",
              "    <tr>\n",
              "      <th>1</th>\n",
              "      <td>708749</td>\n",
              "      <td>17/08/2017</td>\n",
              "      <td>17/08/2017</td>\n",
              "      <td>916.0</td>\n",
              "      <td>103917.0</td>\n",
              "      <td>30-34</td>\n",
              "      <td>M</td>\n",
              "      <td>16</td>\n",
              "      <td>19</td>\n",
              "      <td>21</td>\n",
              "      <td>17861</td>\n",
              "      <td>2</td>\n",
              "      <td>1.82</td>\n",
              "      <td>2</td>\n",
              "      <td>0</td>\n",
              "    </tr>\n",
              "    <tr>\n",
              "      <th>2</th>\n",
              "      <td>708771</td>\n",
              "      <td>17/08/2017</td>\n",
              "      <td>17/08/2017</td>\n",
              "      <td>916.0</td>\n",
              "      <td>103920.0</td>\n",
              "      <td>30-34</td>\n",
              "      <td>M</td>\n",
              "      <td>20</td>\n",
              "      <td>25</td>\n",
              "      <td>22</td>\n",
              "      <td>693</td>\n",
              "      <td>0</td>\n",
              "      <td>0.00</td>\n",
              "      <td>1</td>\n",
              "      <td>0</td>\n",
              "    </tr>\n",
              "    <tr>\n",
              "      <th>3</th>\n",
              "      <td>708815</td>\n",
              "      <td>30/08/2017</td>\n",
              "      <td>30/08/2017</td>\n",
              "      <td>916.0</td>\n",
              "      <td>103928.0</td>\n",
              "      <td>30-34</td>\n",
              "      <td>M</td>\n",
              "      <td>28</td>\n",
              "      <td>32</td>\n",
              "      <td>32</td>\n",
              "      <td>4259</td>\n",
              "      <td>1</td>\n",
              "      <td>1.25</td>\n",
              "      <td>1</td>\n",
              "      <td>0</td>\n",
              "    </tr>\n",
              "    <tr>\n",
              "      <th>4</th>\n",
              "      <td>708818</td>\n",
              "      <td>17/08/2017</td>\n",
              "      <td>17/08/2017</td>\n",
              "      <td>916.0</td>\n",
              "      <td>103928.0</td>\n",
              "      <td>30-34</td>\n",
              "      <td>M</td>\n",
              "      <td>28</td>\n",
              "      <td>33</td>\n",
              "      <td>32</td>\n",
              "      <td>4133</td>\n",
              "      <td>1</td>\n",
              "      <td>1.29</td>\n",
              "      <td>1</td>\n",
              "      <td>1</td>\n",
              "    </tr>\n",
              "  </tbody>\n",
              "</table>\n",
              "</div>"
            ],
            "text/plain": [
              "    ad_id reporting_start reporting_end  campaign_id  fb_campaign_id    age  \\\n",
              "0  708746      17/08/2017    17/08/2017        916.0        103916.0  30-34   \n",
              "1  708749      17/08/2017    17/08/2017        916.0        103917.0  30-34   \n",
              "2  708771      17/08/2017    17/08/2017        916.0        103920.0  30-34   \n",
              "3  708815      30/08/2017    30/08/2017        916.0        103928.0  30-34   \n",
              "4  708818      17/08/2017    17/08/2017        916.0        103928.0  30-34   \n",
              "\n",
              "  gender  interest1  interest2  interest3  impressions  clicks  spent  \\\n",
              "0      M         15         17         17         7350       1   1.43   \n",
              "1      M         16         19         21        17861       2   1.82   \n",
              "2      M         20         25         22          693       0   0.00   \n",
              "3      M         28         32         32         4259       1   1.25   \n",
              "4      M         28         33         32         4133       1   1.29   \n",
              "\n",
              "   total_conversion  approved_conversion  \n",
              "0                 2                    1  \n",
              "1                 2                    0  \n",
              "2                 1                    0  \n",
              "3                 1                    0  \n",
              "4                 1                    1  "
            ]
          },
          "metadata": {
            "tags": []
          },
          "execution_count": 117
        }
      ]
    },
    {
      "metadata": {
        "id": "rL1Gkip0gN6J",
        "colab_type": "text"
      },
      "cell_type": "markdown",
      "source": [
        "## 1.2 Choose useful features, formalize the feature values.\n",
        "#### 1. Currently, we have 15 columns of data; not all columns are helpful for this task. I choose some features that can directly affect our campaign performance.\n",
        "#### 2. Some features are numbers; some are strings. To formalize the feature values, I need to convert the string to numbers. For example, for gender features: Male can convert to 0, Female can convert to 1. For the age values, we transfer the age interval to the mean value of age interval. (e.g. 30-34 => 32, 35-39=>37)\n",
        "#### 3. Add new Column: approved_conversion/spent. Because our main objective is to maximize the number of approved_conversion and minimize our spent, then the approved_conversion/spent can be a good indicator to measure our ROI(Return of Investment). \n"
      ]
    },
    {
      "metadata": {
        "id": "UPLOFn_VH2Sy",
        "colab_type": "code",
        "colab": {}
      },
      "cell_type": "code",
      "source": [
        "# Clean the dataframe.\n",
        "data = data.loc[:,['gender','age','interest1','interest2','interest3','impressions','clicks','spent','total_conversion','approved_conversion']]\n",
        "\n",
        "# Formalise the gender feature values: Male ->0, Female -> 1.\n",
        "data.loc[data.gender == 'M', 'gender'] = 0 \n",
        "data.loc[data.gender == 'F', 'gender'] = 1 \n",
        "\n",
        "# Formalise the age values to the mean value of the interval: 30-34 => 32, 35-39=> 37.\n",
        "data[\"age\"] = (data.age.str.split('-').str[0].astype(float) + data.age.str.split('-').str[1].astype(float))/2\n",
        "\n",
        "# Add new Column: approved_conversion/spent.\n",
        "# To avoid dividing by 0, we just set approv_conv/spent equal 0 when spent is 0\n",
        "data.loc[data.spent > 0, \"approv_conv/spent\"] = (data[\"approved_conversion\"])/(data[\"spent\"])\n",
        "data.loc[data.spent ==0, \"approv_conv/spent\"] = 0"
      ],
      "execution_count": 0,
      "outputs": []
    },
    {
      "metadata": {
        "id": "C1Koy06_C_ul",
        "colab_type": "text"
      },
      "cell_type": "markdown",
      "source": [
        "## 1.3 Generate descriptive statistics that summarize the dataset and show dataset's distribution."
      ]
    },
    {
      "metadata": {
        "id": "d4iMLyr9VpSu",
        "colab_type": "code",
        "outputId": "1c73ba28-130a-48f3-b4f0-058298babaa4",
        "colab": {
          "base_uri": "https://localhost:8080/",
          "height": 288
        }
      },
      "cell_type": "code",
      "source": [
        "# Generate descriptive statistics that summarize the central tendency, dispersion and shape of a dataset’s distribution, excluding NaN values.\n",
        "\n",
        "data.describe()\n"
      ],
      "execution_count": 0,
      "outputs": [
        {
          "output_type": "execute_result",
          "data": {
            "text/html": [
              "<div>\n",
              "<style scoped>\n",
              "    .dataframe tbody tr th:only-of-type {\n",
              "        vertical-align: middle;\n",
              "    }\n",
              "\n",
              "    .dataframe tbody tr th {\n",
              "        vertical-align: top;\n",
              "    }\n",
              "\n",
              "    .dataframe thead th {\n",
              "        text-align: right;\n",
              "    }\n",
              "</style>\n",
              "<table border=\"1\" class=\"dataframe\">\n",
              "  <thead>\n",
              "    <tr style=\"text-align: right;\">\n",
              "      <th></th>\n",
              "      <th>gender</th>\n",
              "      <th>age</th>\n",
              "      <th>interest1</th>\n",
              "      <th>interest2</th>\n",
              "      <th>interest3</th>\n",
              "      <th>impressions</th>\n",
              "      <th>clicks</th>\n",
              "      <th>spent</th>\n",
              "      <th>total_conversion</th>\n",
              "      <th>approved_conversion</th>\n",
              "      <th>approv_conv/spent</th>\n",
              "    </tr>\n",
              "  </thead>\n",
              "  <tbody>\n",
              "    <tr>\n",
              "      <th>count</th>\n",
              "      <td>1143.000000</td>\n",
              "      <td>1143.000000</td>\n",
              "      <td>1143.000000</td>\n",
              "      <td>1143.000000</td>\n",
              "      <td>1143.000000</td>\n",
              "      <td>1.143000e+03</td>\n",
              "      <td>1143.000000</td>\n",
              "      <td>1143.000000</td>\n",
              "      <td>1143.000000</td>\n",
              "      <td>1143.000000</td>\n",
              "      <td>1143.000000</td>\n",
              "    </tr>\n",
              "    <tr>\n",
              "      <th>mean</th>\n",
              "      <td>0.482065</td>\n",
              "      <td>38.321085</td>\n",
              "      <td>32.766404</td>\n",
              "      <td>36.245844</td>\n",
              "      <td>36.222222</td>\n",
              "      <td>1.867321e+05</td>\n",
              "      <td>33.390201</td>\n",
              "      <td>51.360656</td>\n",
              "      <td>2.855643</td>\n",
              "      <td>0.944007</td>\n",
              "      <td>0.069602</td>\n",
              "    </tr>\n",
              "    <tr>\n",
              "      <th>std</th>\n",
              "      <td>0.499897</td>\n",
              "      <td>5.903868</td>\n",
              "      <td>26.952131</td>\n",
              "      <td>26.937853</td>\n",
              "      <td>26.924679</td>\n",
              "      <td>3.127622e+05</td>\n",
              "      <td>56.892438</td>\n",
              "      <td>86.908418</td>\n",
              "      <td>4.483593</td>\n",
              "      <td>1.737708</td>\n",
              "      <td>0.244452</td>\n",
              "    </tr>\n",
              "    <tr>\n",
              "      <th>min</th>\n",
              "      <td>0.000000</td>\n",
              "      <td>32.000000</td>\n",
              "      <td>2.000000</td>\n",
              "      <td>3.000000</td>\n",
              "      <td>3.000000</td>\n",
              "      <td>8.700000e+01</td>\n",
              "      <td>0.000000</td>\n",
              "      <td>0.000000</td>\n",
              "      <td>0.000000</td>\n",
              "      <td>0.000000</td>\n",
              "      <td>0.000000</td>\n",
              "    </tr>\n",
              "    <tr>\n",
              "      <th>25%</th>\n",
              "      <td>0.000000</td>\n",
              "      <td>32.000000</td>\n",
              "      <td>16.000000</td>\n",
              "      <td>20.000000</td>\n",
              "      <td>20.000000</td>\n",
              "      <td>6.503500e+03</td>\n",
              "      <td>1.000000</td>\n",
              "      <td>1.480000</td>\n",
              "      <td>1.000000</td>\n",
              "      <td>0.000000</td>\n",
              "      <td>0.000000</td>\n",
              "    </tr>\n",
              "    <tr>\n",
              "      <th>50%</th>\n",
              "      <td>0.000000</td>\n",
              "      <td>37.000000</td>\n",
              "      <td>25.000000</td>\n",
              "      <td>28.000000</td>\n",
              "      <td>28.000000</td>\n",
              "      <td>5.150900e+04</td>\n",
              "      <td>8.000000</td>\n",
              "      <td>12.370000</td>\n",
              "      <td>1.000000</td>\n",
              "      <td>1.000000</td>\n",
              "      <td>0.000000</td>\n",
              "    </tr>\n",
              "    <tr>\n",
              "      <th>75%</th>\n",
              "      <td>1.000000</td>\n",
              "      <td>42.000000</td>\n",
              "      <td>31.000000</td>\n",
              "      <td>35.000000</td>\n",
              "      <td>35.000000</td>\n",
              "      <td>2.217690e+05</td>\n",
              "      <td>37.500000</td>\n",
              "      <td>60.025000</td>\n",
              "      <td>3.000000</td>\n",
              "      <td>1.000000</td>\n",
              "      <td>0.028253</td>\n",
              "    </tr>\n",
              "    <tr>\n",
              "      <th>max</th>\n",
              "      <td>1.000000</td>\n",
              "      <td>47.000000</td>\n",
              "      <td>114.000000</td>\n",
              "      <td>118.000000</td>\n",
              "      <td>120.000000</td>\n",
              "      <td>3.052003e+06</td>\n",
              "      <td>421.000000</td>\n",
              "      <td>639.949998</td>\n",
              "      <td>60.000000</td>\n",
              "      <td>21.000000</td>\n",
              "      <td>5.555555</td>\n",
              "    </tr>\n",
              "  </tbody>\n",
              "</table>\n",
              "</div>"
            ],
            "text/plain": [
              "            gender          age    interest1    interest2    interest3  \\\n",
              "count  1143.000000  1143.000000  1143.000000  1143.000000  1143.000000   \n",
              "mean      0.482065    38.321085    32.766404    36.245844    36.222222   \n",
              "std       0.499897     5.903868    26.952131    26.937853    26.924679   \n",
              "min       0.000000    32.000000     2.000000     3.000000     3.000000   \n",
              "25%       0.000000    32.000000    16.000000    20.000000    20.000000   \n",
              "50%       0.000000    37.000000    25.000000    28.000000    28.000000   \n",
              "75%       1.000000    42.000000    31.000000    35.000000    35.000000   \n",
              "max       1.000000    47.000000   114.000000   118.000000   120.000000   \n",
              "\n",
              "        impressions       clicks        spent  total_conversion  \\\n",
              "count  1.143000e+03  1143.000000  1143.000000       1143.000000   \n",
              "mean   1.867321e+05    33.390201    51.360656          2.855643   \n",
              "std    3.127622e+05    56.892438    86.908418          4.483593   \n",
              "min    8.700000e+01     0.000000     0.000000          0.000000   \n",
              "25%    6.503500e+03     1.000000     1.480000          1.000000   \n",
              "50%    5.150900e+04     8.000000    12.370000          1.000000   \n",
              "75%    2.217690e+05    37.500000    60.025000          3.000000   \n",
              "max    3.052003e+06   421.000000   639.949998         60.000000   \n",
              "\n",
              "       approved_conversion  approv_conv/spent  \n",
              "count          1143.000000        1143.000000  \n",
              "mean              0.944007           0.069602  \n",
              "std               1.737708           0.244452  \n",
              "min               0.000000           0.000000  \n",
              "25%               0.000000           0.000000  \n",
              "50%               1.000000           0.000000  \n",
              "75%               1.000000           0.028253  \n",
              "max              21.000000           5.555555  "
            ]
          },
          "metadata": {
            "tags": []
          },
          "execution_count": 119
        }
      ]
    },
    {
      "metadata": {
        "id": "MmKpJ36LDkj4",
        "colab_type": "text"
      },
      "cell_type": "markdown",
      "source": [
        "### 1.3.1 Here are some interesting facts we can see from the above statistics:\n",
        "\n",
        "#### 1. The mean value of gender is 0.482, which means there are 3.6% more males than females in this dataset. Female (48.2%), Male(51.8%). The dataset is roughly balanced in the gender category. (which may not be correct, since some people appear more than once in the dataset. Need further analysis.)\n",
        "#### 2. The average approved_conversion/spent rate is 0.0696, which means we normally spend 14.37 for one approved conversion. This can be a good indicator if we want to measure the performance of our bidding model.\n"
      ]
    },
    {
      "metadata": {
        "id": "_NIrg07bMHkj",
        "colab_type": "text"
      },
      "cell_type": "markdown",
      "source": [
        "## 2.Build the learning model: Classification or Regression?\n",
        "\n",
        "#### Our primary objective is to find the optimal assignment given the finite budget. Therefore, there are at least two approaches to solve this problem: one approach is to build a regression model to predict the approv_conv/spent rate based on the user's profiles (gender, age, interests); another approach is to create a classification model to classify the target users based on user's profiles. In this section, I am going to implement both the regression model and the classification model with different algorithms and choose the best algorithms for each model.\n",
        "\n"
      ]
    },
    {
      "metadata": {
        "id": "RSsQu49SderZ",
        "colab_type": "text"
      },
      "cell_type": "markdown",
      "source": [
        "## 2.1 Process the data: normalise the dataset, randomly split it into training dataset (80%) and test dataset(20%)."
      ]
    },
    {
      "metadata": {
        "id": "3x-hn7PIRF_Y",
        "colab_type": "code",
        "outputId": "7edfc0e5-c49e-46ce-b33c-27ec05c4bbd8",
        "colab": {
          "base_uri": "https://localhost:8080/",
          "height": 72
        }
      },
      "cell_type": "code",
      "source": [
        "# Normalise the entire dataset.\n",
        "normalizer = MinMaxScaler()\n",
        "normalizer.fit(data)\n",
        "\n",
        "normalised_data = pd.DataFrame(normalizer.transform(data),\n",
        "                       columns = data.keys(),\n",
        "                       index = data.index)\n",
        "\n",
        "input_features = normalised_data[[\"age\", \"gender\", \"interest1\", \"interest2\", \"interest3\"]]\n",
        "\n",
        "output_labels = normalised_data[[\"approv_conv/spent\"]]\n",
        "\n",
        "x_train, x_test, y_train, y_test = train_test_split(input_features, output_labels, test_size=0.2, random_state=42)\n"
      ],
      "execution_count": 0,
      "outputs": [
        {
          "output_type": "stream",
          "text": [
            "/usr/local/lib/python3.6/dist-packages/sklearn/preprocessing/data.py:334: DataConversionWarning: Data with input dtype int64, float64 were all converted to float64 by MinMaxScaler.\n",
            "  return self.partial_fit(X, y)\n"
          ],
          "name": "stderr"
        }
      ]
    },
    {
      "metadata": {
        "id": "Yx7-fOqWP0CW",
        "colab_type": "code",
        "outputId": "685bca31-0c10-44f6-a9c9-f247ce27565e",
        "colab": {
          "base_uri": "https://localhost:8080/",
          "height": 288
        }
      },
      "cell_type": "code",
      "source": [
        "# Generate descriptive statistics that summarize the dataset\n",
        "normalised_data.describe()"
      ],
      "execution_count": 0,
      "outputs": [
        {
          "output_type": "execute_result",
          "data": {
            "text/html": [
              "<div>\n",
              "<style scoped>\n",
              "    .dataframe tbody tr th:only-of-type {\n",
              "        vertical-align: middle;\n",
              "    }\n",
              "\n",
              "    .dataframe tbody tr th {\n",
              "        vertical-align: top;\n",
              "    }\n",
              "\n",
              "    .dataframe thead th {\n",
              "        text-align: right;\n",
              "    }\n",
              "</style>\n",
              "<table border=\"1\" class=\"dataframe\">\n",
              "  <thead>\n",
              "    <tr style=\"text-align: right;\">\n",
              "      <th></th>\n",
              "      <th>gender</th>\n",
              "      <th>age</th>\n",
              "      <th>interest1</th>\n",
              "      <th>interest2</th>\n",
              "      <th>interest3</th>\n",
              "      <th>impressions</th>\n",
              "      <th>clicks</th>\n",
              "      <th>spent</th>\n",
              "      <th>total_conversion</th>\n",
              "      <th>approved_conversion</th>\n",
              "      <th>approv_conv/spent</th>\n",
              "    </tr>\n",
              "  </thead>\n",
              "  <tbody>\n",
              "    <tr>\n",
              "      <th>count</th>\n",
              "      <td>1143.000000</td>\n",
              "      <td>1143.000000</td>\n",
              "      <td>1143.000000</td>\n",
              "      <td>1143.000000</td>\n",
              "      <td>1143.000000</td>\n",
              "      <td>1143.000000</td>\n",
              "      <td>1143.000000</td>\n",
              "      <td>1143.000000</td>\n",
              "      <td>1143.000000</td>\n",
              "      <td>1143.000000</td>\n",
              "      <td>1143.000000</td>\n",
              "    </tr>\n",
              "    <tr>\n",
              "      <th>mean</th>\n",
              "      <td>0.482065</td>\n",
              "      <td>0.421406</td>\n",
              "      <td>0.274700</td>\n",
              "      <td>0.289094</td>\n",
              "      <td>0.283951</td>\n",
              "      <td>0.061157</td>\n",
              "      <td>0.079312</td>\n",
              "      <td>0.080257</td>\n",
              "      <td>0.047594</td>\n",
              "      <td>0.044953</td>\n",
              "      <td>0.012528</td>\n",
              "    </tr>\n",
              "    <tr>\n",
              "      <th>std</th>\n",
              "      <td>0.499897</td>\n",
              "      <td>0.393591</td>\n",
              "      <td>0.240644</td>\n",
              "      <td>0.234242</td>\n",
              "      <td>0.230125</td>\n",
              "      <td>0.102481</td>\n",
              "      <td>0.135136</td>\n",
              "      <td>0.135805</td>\n",
              "      <td>0.074727</td>\n",
              "      <td>0.082748</td>\n",
              "      <td>0.044001</td>\n",
              "    </tr>\n",
              "    <tr>\n",
              "      <th>min</th>\n",
              "      <td>0.000000</td>\n",
              "      <td>0.000000</td>\n",
              "      <td>0.000000</td>\n",
              "      <td>0.000000</td>\n",
              "      <td>0.000000</td>\n",
              "      <td>0.000000</td>\n",
              "      <td>0.000000</td>\n",
              "      <td>0.000000</td>\n",
              "      <td>0.000000</td>\n",
              "      <td>0.000000</td>\n",
              "      <td>0.000000</td>\n",
              "    </tr>\n",
              "    <tr>\n",
              "      <th>25%</th>\n",
              "      <td>0.000000</td>\n",
              "      <td>0.000000</td>\n",
              "      <td>0.125000</td>\n",
              "      <td>0.147826</td>\n",
              "      <td>0.145299</td>\n",
              "      <td>0.002102</td>\n",
              "      <td>0.002375</td>\n",
              "      <td>0.002313</td>\n",
              "      <td>0.016667</td>\n",
              "      <td>0.000000</td>\n",
              "      <td>0.000000</td>\n",
              "    </tr>\n",
              "    <tr>\n",
              "      <th>50%</th>\n",
              "      <td>0.000000</td>\n",
              "      <td>0.333333</td>\n",
              "      <td>0.205357</td>\n",
              "      <td>0.217391</td>\n",
              "      <td>0.213675</td>\n",
              "      <td>0.016849</td>\n",
              "      <td>0.019002</td>\n",
              "      <td>0.019330</td>\n",
              "      <td>0.016667</td>\n",
              "      <td>0.047619</td>\n",
              "      <td>0.000000</td>\n",
              "    </tr>\n",
              "    <tr>\n",
              "      <th>75%</th>\n",
              "      <td>1.000000</td>\n",
              "      <td>0.666667</td>\n",
              "      <td>0.258929</td>\n",
              "      <td>0.278261</td>\n",
              "      <td>0.273504</td>\n",
              "      <td>0.072637</td>\n",
              "      <td>0.089074</td>\n",
              "      <td>0.093796</td>\n",
              "      <td>0.050000</td>\n",
              "      <td>0.047619</td>\n",
              "      <td>0.005086</td>\n",
              "    </tr>\n",
              "    <tr>\n",
              "      <th>max</th>\n",
              "      <td>1.000000</td>\n",
              "      <td>1.000000</td>\n",
              "      <td>1.000000</td>\n",
              "      <td>1.000000</td>\n",
              "      <td>1.000000</td>\n",
              "      <td>1.000000</td>\n",
              "      <td>1.000000</td>\n",
              "      <td>1.000000</td>\n",
              "      <td>1.000000</td>\n",
              "      <td>1.000000</td>\n",
              "      <td>1.000000</td>\n",
              "    </tr>\n",
              "  </tbody>\n",
              "</table>\n",
              "</div>"
            ],
            "text/plain": [
              "            gender          age    interest1    interest2    interest3  \\\n",
              "count  1143.000000  1143.000000  1143.000000  1143.000000  1143.000000   \n",
              "mean      0.482065     0.421406     0.274700     0.289094     0.283951   \n",
              "std       0.499897     0.393591     0.240644     0.234242     0.230125   \n",
              "min       0.000000     0.000000     0.000000     0.000000     0.000000   \n",
              "25%       0.000000     0.000000     0.125000     0.147826     0.145299   \n",
              "50%       0.000000     0.333333     0.205357     0.217391     0.213675   \n",
              "75%       1.000000     0.666667     0.258929     0.278261     0.273504   \n",
              "max       1.000000     1.000000     1.000000     1.000000     1.000000   \n",
              "\n",
              "       impressions       clicks        spent  total_conversion  \\\n",
              "count  1143.000000  1143.000000  1143.000000       1143.000000   \n",
              "mean      0.061157     0.079312     0.080257          0.047594   \n",
              "std       0.102481     0.135136     0.135805          0.074727   \n",
              "min       0.000000     0.000000     0.000000          0.000000   \n",
              "25%       0.002102     0.002375     0.002313          0.016667   \n",
              "50%       0.016849     0.019002     0.019330          0.016667   \n",
              "75%       0.072637     0.089074     0.093796          0.050000   \n",
              "max       1.000000     1.000000     1.000000          1.000000   \n",
              "\n",
              "       approved_conversion  approv_conv/spent  \n",
              "count          1143.000000        1143.000000  \n",
              "mean              0.044953           0.012528  \n",
              "std               0.082748           0.044001  \n",
              "min               0.000000           0.000000  \n",
              "25%               0.000000           0.000000  \n",
              "50%               0.047619           0.000000  \n",
              "75%               0.047619           0.005086  \n",
              "max               1.000000           1.000000  "
            ]
          },
          "metadata": {
            "tags": []
          },
          "execution_count": 121
        }
      ]
    },
    {
      "metadata": {
        "id": "dbcKWCvyAi1s",
        "colab_type": "text"
      },
      "cell_type": "markdown",
      "source": [
        "## 2.2 Generate convariance matrix of features."
      ]
    },
    {
      "metadata": {
        "id": "XzyGIilAQjlH",
        "colab_type": "code",
        "outputId": "c690fbb6-bff9-4ba6-e59c-a5a06fa99a1f",
        "colab": {
          "base_uri": "https://localhost:8080/",
          "height": 378
        }
      },
      "cell_type": "code",
      "source": [
        "normalised_data.cov()"
      ],
      "execution_count": 0,
      "outputs": [
        {
          "output_type": "execute_result",
          "data": {
            "text/html": [
              "<div>\n",
              "<style scoped>\n",
              "    .dataframe tbody tr th:only-of-type {\n",
              "        vertical-align: middle;\n",
              "    }\n",
              "\n",
              "    .dataframe tbody tr th {\n",
              "        vertical-align: top;\n",
              "    }\n",
              "\n",
              "    .dataframe thead th {\n",
              "        text-align: right;\n",
              "    }\n",
              "</style>\n",
              "<table border=\"1\" class=\"dataframe\">\n",
              "  <thead>\n",
              "    <tr style=\"text-align: right;\">\n",
              "      <th></th>\n",
              "      <th>gender</th>\n",
              "      <th>age</th>\n",
              "      <th>interest1</th>\n",
              "      <th>interest2</th>\n",
              "      <th>interest3</th>\n",
              "      <th>impressions</th>\n",
              "      <th>clicks</th>\n",
              "      <th>spent</th>\n",
              "      <th>total_conversion</th>\n",
              "      <th>approved_conversion</th>\n",
              "      <th>approv_conv/spent</th>\n",
              "    </tr>\n",
              "  </thead>\n",
              "  <tbody>\n",
              "    <tr>\n",
              "      <th>gender</th>\n",
              "      <td>0.249897</td>\n",
              "      <td>0.011797</td>\n",
              "      <td>0.005682</td>\n",
              "      <td>0.005502</td>\n",
              "      <td>0.005034</td>\n",
              "      <td>0.003435</td>\n",
              "      <td>0.011398</td>\n",
              "      <td>0.008488</td>\n",
              "      <td>0.001029</td>\n",
              "      <td>-0.001049</td>\n",
              "      <td>-0.000918</td>\n",
              "    </tr>\n",
              "    <tr>\n",
              "      <th>age</th>\n",
              "      <td>0.011797</td>\n",
              "      <td>0.154914</td>\n",
              "      <td>0.004140</td>\n",
              "      <td>0.003939</td>\n",
              "      <td>0.003961</td>\n",
              "      <td>0.004082</td>\n",
              "      <td>0.011005</td>\n",
              "      <td>0.010184</td>\n",
              "      <td>-0.001958</td>\n",
              "      <td>-0.002684</td>\n",
              "      <td>-0.000644</td>\n",
              "    </tr>\n",
              "    <tr>\n",
              "      <th>interest1</th>\n",
              "      <td>0.005682</td>\n",
              "      <td>0.004140</td>\n",
              "      <td>0.057910</td>\n",
              "      <td>0.056251</td>\n",
              "      <td>0.055270</td>\n",
              "      <td>0.002515</td>\n",
              "      <td>0.002885</td>\n",
              "      <td>0.002295</td>\n",
              "      <td>0.002163</td>\n",
              "      <td>0.001162</td>\n",
              "      <td>-0.000100</td>\n",
              "    </tr>\n",
              "    <tr>\n",
              "      <th>interest2</th>\n",
              "      <td>0.005502</td>\n",
              "      <td>0.003939</td>\n",
              "      <td>0.056251</td>\n",
              "      <td>0.054869</td>\n",
              "      <td>0.053694</td>\n",
              "      <td>0.002436</td>\n",
              "      <td>0.002785</td>\n",
              "      <td>0.002216</td>\n",
              "      <td>0.002084</td>\n",
              "      <td>0.001146</td>\n",
              "      <td>-0.000096</td>\n",
              "    </tr>\n",
              "    <tr>\n",
              "      <th>interest3</th>\n",
              "      <td>0.005034</td>\n",
              "      <td>0.003961</td>\n",
              "      <td>0.055270</td>\n",
              "      <td>0.053694</td>\n",
              "      <td>0.052958</td>\n",
              "      <td>0.002407</td>\n",
              "      <td>0.002766</td>\n",
              "      <td>0.002200</td>\n",
              "      <td>0.002075</td>\n",
              "      <td>0.001116</td>\n",
              "      <td>-0.000076</td>\n",
              "    </tr>\n",
              "    <tr>\n",
              "      <th>impressions</th>\n",
              "      <td>0.003435</td>\n",
              "      <td>0.004082</td>\n",
              "      <td>0.002515</td>\n",
              "      <td>0.002436</td>\n",
              "      <td>0.002407</td>\n",
              "      <td>0.010502</td>\n",
              "      <td>0.013136</td>\n",
              "      <td>0.013505</td>\n",
              "      <td>0.006225</td>\n",
              "      <td>0.005802</td>\n",
              "      <td>-0.000549</td>\n",
              "    </tr>\n",
              "    <tr>\n",
              "      <th>clicks</th>\n",
              "      <td>0.011398</td>\n",
              "      <td>0.011005</td>\n",
              "      <td>0.002885</td>\n",
              "      <td>0.002785</td>\n",
              "      <td>0.002766</td>\n",
              "      <td>0.013136</td>\n",
              "      <td>0.018262</td>\n",
              "      <td>0.018222</td>\n",
              "      <td>0.007015</td>\n",
              "      <td>0.006257</td>\n",
              "      <td>-0.000749</td>\n",
              "    </tr>\n",
              "    <tr>\n",
              "      <th>spent</th>\n",
              "      <td>0.008488</td>\n",
              "      <td>0.010184</td>\n",
              "      <td>0.002295</td>\n",
              "      <td>0.002216</td>\n",
              "      <td>0.002200</td>\n",
              "      <td>0.013505</td>\n",
              "      <td>0.018222</td>\n",
              "      <td>0.018443</td>\n",
              "      <td>0.007361</td>\n",
              "      <td>0.006666</td>\n",
              "      <td>-0.000759</td>\n",
              "    </tr>\n",
              "    <tr>\n",
              "      <th>total_conversion</th>\n",
              "      <td>0.001029</td>\n",
              "      <td>-0.001958</td>\n",
              "      <td>0.002163</td>\n",
              "      <td>0.002084</td>\n",
              "      <td>0.002075</td>\n",
              "      <td>0.006225</td>\n",
              "      <td>0.007015</td>\n",
              "      <td>0.007361</td>\n",
              "      <td>0.005584</td>\n",
              "      <td>0.005343</td>\n",
              "      <td>-0.000198</td>\n",
              "    </tr>\n",
              "    <tr>\n",
              "      <th>approved_conversion</th>\n",
              "      <td>-0.001049</td>\n",
              "      <td>-0.002684</td>\n",
              "      <td>0.001162</td>\n",
              "      <td>0.001146</td>\n",
              "      <td>0.001116</td>\n",
              "      <td>0.005802</td>\n",
              "      <td>0.006257</td>\n",
              "      <td>0.006666</td>\n",
              "      <td>0.005343</td>\n",
              "      <td>0.006847</td>\n",
              "      <td>0.000223</td>\n",
              "    </tr>\n",
              "    <tr>\n",
              "      <th>approv_conv/spent</th>\n",
              "      <td>-0.000918</td>\n",
              "      <td>-0.000644</td>\n",
              "      <td>-0.000100</td>\n",
              "      <td>-0.000096</td>\n",
              "      <td>-0.000076</td>\n",
              "      <td>-0.000549</td>\n",
              "      <td>-0.000749</td>\n",
              "      <td>-0.000759</td>\n",
              "      <td>-0.000198</td>\n",
              "      <td>0.000223</td>\n",
              "      <td>0.001936</td>\n",
              "    </tr>\n",
              "  </tbody>\n",
              "</table>\n",
              "</div>"
            ],
            "text/plain": [
              "                       gender       age  interest1  interest2  interest3  \\\n",
              "gender               0.249897  0.011797   0.005682   0.005502   0.005034   \n",
              "age                  0.011797  0.154914   0.004140   0.003939   0.003961   \n",
              "interest1            0.005682  0.004140   0.057910   0.056251   0.055270   \n",
              "interest2            0.005502  0.003939   0.056251   0.054869   0.053694   \n",
              "interest3            0.005034  0.003961   0.055270   0.053694   0.052958   \n",
              "impressions          0.003435  0.004082   0.002515   0.002436   0.002407   \n",
              "clicks               0.011398  0.011005   0.002885   0.002785   0.002766   \n",
              "spent                0.008488  0.010184   0.002295   0.002216   0.002200   \n",
              "total_conversion     0.001029 -0.001958   0.002163   0.002084   0.002075   \n",
              "approved_conversion -0.001049 -0.002684   0.001162   0.001146   0.001116   \n",
              "approv_conv/spent   -0.000918 -0.000644  -0.000100  -0.000096  -0.000076   \n",
              "\n",
              "                     impressions    clicks     spent  total_conversion  \\\n",
              "gender                  0.003435  0.011398  0.008488          0.001029   \n",
              "age                     0.004082  0.011005  0.010184         -0.001958   \n",
              "interest1               0.002515  0.002885  0.002295          0.002163   \n",
              "interest2               0.002436  0.002785  0.002216          0.002084   \n",
              "interest3               0.002407  0.002766  0.002200          0.002075   \n",
              "impressions             0.010502  0.013136  0.013505          0.006225   \n",
              "clicks                  0.013136  0.018262  0.018222          0.007015   \n",
              "spent                   0.013505  0.018222  0.018443          0.007361   \n",
              "total_conversion        0.006225  0.007015  0.007361          0.005584   \n",
              "approved_conversion     0.005802  0.006257  0.006666          0.005343   \n",
              "approv_conv/spent      -0.000549 -0.000749 -0.000759         -0.000198   \n",
              "\n",
              "                     approved_conversion  approv_conv/spent  \n",
              "gender                         -0.001049          -0.000918  \n",
              "age                            -0.002684          -0.000644  \n",
              "interest1                       0.001162          -0.000100  \n",
              "interest2                       0.001146          -0.000096  \n",
              "interest3                       0.001116          -0.000076  \n",
              "impressions                     0.005802          -0.000549  \n",
              "clicks                          0.006257          -0.000749  \n",
              "spent                           0.006666          -0.000759  \n",
              "total_conversion                0.005343          -0.000198  \n",
              "approved_conversion             0.006847           0.000223  \n",
              "approv_conv/spent               0.000223           0.001936  "
            ]
          },
          "metadata": {
            "tags": []
          },
          "execution_count": 122
        }
      ]
    },
    {
      "metadata": {
        "id": "t4j4xqu4Av4F",
        "colab_type": "text"
      },
      "cell_type": "markdown",
      "source": [
        "## 2.3 Define a collection of Regression Models"
      ]
    },
    {
      "metadata": {
        "id": "TgzcV9kWSlx6",
        "colab_type": "code",
        "outputId": "5960867f-3cd6-4185-af0b-1433fa6eafdc",
        "colab": {
          "base_uri": "https://localhost:8080/",
          "height": 72
        }
      },
      "cell_type": "code",
      "source": [
        "# Define the random state for AdaBoost.\n",
        "rng = np.random.RandomState(1)\n",
        "\n",
        "# Define kernels for Gaussian Process.\n",
        "kernel = ExpSineSquared(10.0, 10.0, periodicity_bounds=(1e-2, 1e1)) \\\n",
        "    + WhiteKernel(1e-1)\n",
        "\n",
        "# Fit models.\n",
        "ESTIMATORS = {\"LinearRegression\": LinearRegression(), \n",
        "         \"RidgeCV\": linear_model.RidgeCV(alphas=[0.3, 2.0, 10.0], cv=3),\n",
        "         \"SVM_Regression\": svm.SVR(),\n",
        "         \"AdaBoost\":AdaBoostRegressor(DecisionTreeRegressor(max_depth=4),\n",
        "                          n_estimators=300, random_state=rng),\n",
        "         \"GaussianProcess\":GaussianProcessRegressor(kernel=kernel,\n",
        "          random_state=0)\n",
        "        }\n",
        "\n",
        "# Convert y_test to numpy vector.\n",
        "y_label = y_test.values.transpose()\n",
        "y_test_predict = dict()\n",
        "for name, estimator in ESTIMATORS.items():\n",
        "    estimator.fit(x_train, y_train.values.ravel())\n",
        "    y_test_predict[name] = estimator.predict(x_test)"
      ],
      "execution_count": 0,
      "outputs": [
        {
          "output_type": "stream",
          "text": [
            "/usr/local/lib/python3.6/dist-packages/sklearn/svm/base.py:196: FutureWarning: The default value of gamma will change from 'auto' to 'scale' in version 0.22 to account better for unscaled features. Set gamma explicitly to 'auto' or 'scale' to avoid this warning.\n",
            "  \"avoid this warning.\", FutureWarning)\n"
          ],
          "name": "stderr"
        }
      ]
    },
    {
      "metadata": {
        "id": "taS7hDBwA8uS",
        "colab_type": "text"
      },
      "cell_type": "markdown",
      "source": [
        "## 2.4 Comparing different regression models and choose the best one."
      ]
    },
    {
      "metadata": {
        "id": "Cv2fGSJV08rl",
        "colab_type": "code",
        "outputId": "3674b12f-158f-4d51-f622-758a3b491fa6",
        "colab": {
          "base_uri": "https://localhost:8080/",
          "height": 363
        }
      },
      "cell_type": "code",
      "source": [
        "# Compare different models.\n",
        "estimator_score = []\n",
        "estimator_loss = []\n",
        "for e in ESTIMATORS:\n",
        "    y_pred = ESTIMATORS[e].predict(x_test)\n",
        "    y_pred = y_test_predict[e]\n",
        "    Loss = np.sum((y_pred.reshape(y_label.shape[0],y_label.shape[1]) - y_label)**2,axis=1)/len(y_test)\n",
        "    estimator_score.append(ESTIMATORS[e].score(x_test, y_test))\n",
        "    estimator_loss.append(Loss[0])\n",
        "    print(\"ESTIMATORS:\", e)\n",
        "    print(\"Score:\", ESTIMATORS[e].score(x_test, y_test))\n",
        "    print(f\"Loss: {Loss}\")\n",
        "    print(\"***********************************************\")"
      ],
      "execution_count": 0,
      "outputs": [
        {
          "output_type": "stream",
          "text": [
            "ESTIMATORS: LinearRegression\n",
            "Score: -0.015746121997658236\n",
            "Loss: [0.00183166]\n",
            "***********************************************\n",
            "ESTIMATORS: RidgeCV\n",
            "Score: -0.01566898903949343\n",
            "Loss: [0.00183152]\n",
            "***********************************************\n",
            "ESTIMATORS: SVM_Regression\n",
            "Score: -3.914872947329581\n",
            "Loss: [0.00886281]\n",
            "***********************************************\n",
            "ESTIMATORS: AdaBoost\n",
            "Score: -0.49833751500105555\n",
            "Loss: [0.0027019]\n",
            "***********************************************\n",
            "ESTIMATORS: GaussianProcess\n",
            "Score: -0.010546196958005405\n",
            "Loss: [0.00182228]\n",
            "***********************************************\n"
          ],
          "name": "stdout"
        }
      ]
    },
    {
      "metadata": {
        "id": "TKmAZAYPTgNh",
        "colab_type": "code",
        "outputId": "5f90d3ca-ca34-4e61-86c0-17b5dc1e0543",
        "colab": {
          "base_uri": "https://localhost:8080/",
          "height": 888
        }
      },
      "cell_type": "code",
      "source": [
        "ESTIMATORS_NAME = ('LinearRegression', 'RidgeCV', 'SVM_Regression', 'AdaBoost', 'GaussianProcess')\n",
        "y_pos = np.arange(len(ESTIMATORS_NAME))\n",
        " \n",
        "plt.bar(y_pos, estimator_loss, align='center', alpha=1)\n",
        "plt.xticks(y_pos, ESTIMATORS_NAME)\n",
        "plt.ylabel('Loss')\n",
        "plt.title('Estimators Prediction Loss on Testing Data')\n",
        "plt.show()\n",
        "\n",
        "plt.bar(y_pos, estimator_score, align='center', alpha=1)\n",
        "plt.xticks(y_pos, ESTIMATORS_NAME)\n",
        "plt.ylabel('Score')\n",
        "plt.title('Estimators Prediction Score on Testing Data')\n",
        "plt.show()"
      ],
      "execution_count": 0,
      "outputs": [
        {
          "output_type": "display_data",
          "data": {
            "image/png": "[encoded data removed]",
            "text/plain": [
              "<Figure size 640x480 with 1 Axes>"
            ]
          },
          "metadata": {
            "tags": []
          }
        },
        {
          "output_type": "display_data",
          "data": {
            "image/png": "[encoded data removed]",
            "text/plain": [
              "<Figure size 640x480 with 1 Axes>"
            ]
          },
          "metadata": {
            "tags": []
          }
        }
      ]
    },
    {
      "metadata": {
        "id": "0rSUZkTy98Aq",
        "colab_type": "text"
      },
      "cell_type": "markdown",
      "source": [
        "## Winner of Regression Model: RidgeCV regressor.\n",
        "### As we can see above, we plotted the bar graphs for each model and their prediction score and least square loss. The score is the higher the better; the loss is the less the better(minimum is zero). Therefore, the model with the highest score and lowest loss is RigeCV regressor."
      ]
    },
    {
      "metadata": {
        "id": "vqmBoyebWpxY",
        "colab_type": "text"
      },
      "cell_type": "markdown",
      "source": [
        "## 2.5 Define a collection of classification models and choose the best one.\n",
        "\n",
        "\n"
      ]
    },
    {
      "metadata": {
        "id": "k-GPgomLWocz",
        "colab_type": "code",
        "colab": {}
      },
      "cell_type": "code",
      "source": [
        "# Define the features and labels.\n",
        "input_data = normalised_data[[\"age\", \"gender\", \"interest1\", \"interest2\", \"interest3\"]]\n",
        "\n",
        "output_data = normalised_data[[\"approved_conversion\"]]\n",
        "\n",
        "# Since it is an classification task, we need to change the approved_conversion to binary value.\n",
        "output_data.is_copy = False\n",
        "output_data.loc[output_data.approved_conversion > 0, 'approved_conversion'] = 1\n",
        "output_data.loc[output_data.approved_conversion <= 0, 'approved_conversion'] = 0\n",
        "x_train, x_test, y_train, y_test = train_test_split(input_data, output_data, test_size=0.2, random_state=42)\n",
        "\n",
        "classifier_names = [\"Nearest Neighbors\", \"Linear SVM\", \"RBF SVM\", \"Gaussian Process\",\n",
        "         \"Decision Tree\", \"Random Forest\", \"Neural Net\", \"AdaBoost\",\n",
        "         \"Naive Bayes\", \"QDA\"]\n",
        "\n",
        "classifiers = [\n",
        "    KNeighborsClassifier(3),\n",
        "    SVC(kernel=\"linear\", C=0.025),\n",
        "    SVC(gamma=2, C=1),\n",
        "    GaussianProcessClassifier(1.0 * RBF(1.0)),\n",
        "    DecisionTreeClassifier(max_depth=5),\n",
        "    RandomForestClassifier(max_depth=5, n_estimators=10, max_features=1),\n",
        "    MLPClassifier(alpha=1),\n",
        "    AdaBoostClassifier(),\n",
        "    GaussianNB(),\n",
        "    QuadraticDiscriminantAnalysis()]"
      ],
      "execution_count": 0,
      "outputs": []
    },
    {
      "metadata": {
        "id": "Ait714xshVCf",
        "colab_type": "text"
      },
      "cell_type": "markdown",
      "source": [
        "\n",
        "## Visualise classification results.\n",
        "\n"
      ]
    },
    {
      "metadata": {
        "id": "eGcrqJp01SVm",
        "colab_type": "code",
        "outputId": "6f5a63eb-5f2d-4f65-cc52-5c1d8f169a18",
        "colab": {
          "base_uri": "https://localhost:8080/",
          "height": 535
        }
      },
      "cell_type": "code",
      "source": [
        " # iterate over classifiers\n",
        "accuracy = []\n",
        "prediction = []\n",
        "conf_matrix = []\n",
        "for name, clf in zip(classifier_names, classifiers):\n",
        "    clf.fit(x_train, y_train.values.ravel())\n",
        "    score = clf.score(x_test, y_test.values.ravel())\n",
        "    y_pred = clf.predict(x_test);\n",
        "    cm = confusion_matrix(y_test.values.ravel(), y_pred)\n",
        "    conf_matrix.append(cm)\n",
        "    prediction.append(y_pred)\n",
        "    accuracy.append(score)\n",
        "    print('Classifier Name:', name)\n",
        "    print('Score:', score)\n",
        "    print('*****************************************')"
      ],
      "execution_count": 0,
      "outputs": [
        {
          "output_type": "stream",
          "text": [
            "Classifier Name: Nearest Neighbors\n",
            "Score: 0.5327510917030568\n",
            "*****************************************\n",
            "Classifier Name: Linear SVM\n",
            "Score: 0.5021834061135371\n",
            "*****************************************\n",
            "Classifier Name: RBF SVM\n",
            "Score: 0.5414847161572053\n",
            "*****************************************\n",
            "Classifier Name: Gaussian Process\n",
            "Score: 0.5021834061135371\n",
            "*****************************************\n",
            "Classifier Name: Decision Tree\n",
            "Score: 0.47161572052401746\n",
            "*****************************************\n",
            "Classifier Name: Random Forest\n",
            "Score: 0.5851528384279476\n",
            "*****************************************\n",
            "Classifier Name: Neural Net\n",
            "Score: 0.5764192139737991\n",
            "*****************************************\n",
            "Classifier Name: AdaBoost\n",
            "Score: 0.5327510917030568\n",
            "*****************************************\n",
            "Classifier Name: Naive Bayes\n",
            "Score: 0.5720524017467249\n",
            "*****************************************\n",
            "Classifier Name: QDA\n",
            "Score: 0.5414847161572053\n",
            "*****************************************\n"
          ],
          "name": "stdout"
        }
      ]
    },
    {
      "metadata": {
        "id": "vBv-WJUp_4lt",
        "colab_type": "code",
        "outputId": "ea2465e9-0a02-488c-d068-8aa73d5398d7",
        "colab": {
          "base_uri": "https://localhost:8080/",
          "height": 453
        }
      },
      "cell_type": "code",
      "source": [
        "y_position = np.arange(len(classifier_names))\n",
        "\n",
        "names = [\"NN\", \"SVM\", \"RBF_SVM\", \"GP\",\n",
        "         \"DT\", \"RF\", \"MLP\", \"Ada\",\n",
        "         \"NB\", \"QDA\"]\n",
        "plt.bar(y_position, accuracy, align='center', alpha=1,width=0.5)\n",
        "plt.xticks(y_position,names)\n",
        "plt.ylabel('Accuracy')\n",
        "plt.title('Classfiers Prediction Accuracy on Testing Data')\n",
        "plt.show()"
      ],
      "execution_count": 0,
      "outputs": [
        {
          "output_type": "display_data",
          "data": {
            "image/png": "[encoded data removed]",
            "text/plain": [
              "<Figure size 640x480 with 1 Axes>"
            ]
          },
          "metadata": {
            "tags": []
          }
        }
      ]
    },
    {
      "metadata": {
        "id": "pGbZiPGw5CnB",
        "colab_type": "text"
      },
      "cell_type": "markdown",
      "source": [
        "## 2.6 Choose the best classification model.\n",
        "### 1. Plot the confusion matrix of the top three classification models, calculate the precision and recall for each of them.\n",
        "2. Since we have limited budget and we only want to spent money for the right person, so the precision is the most important factor, which means the selected people are more possible to be our target user. Therefore, we can choose the model with the highest prescion."
      ]
    },
    {
      "metadata": {
        "id": "rEKMJZ3pG9kQ",
        "colab_type": "code",
        "outputId": "6e9a0fa7-a636-4991-b91a-7a1551e23b33",
        "colab": {
          "base_uri": "https://localhost:8080/",
          "height": 1233
        }
      },
      "cell_type": "code",
      "source": [
        "\n",
        "def plot_confusion_matrix(cm,title):\n",
        "  df_cm = pd.DataFrame(cm, range(2),\n",
        "                    range(2))\n",
        "  plt.figure(figsize = (5,4))\n",
        "  sn.set(font_scale=1.4)#for label size\n",
        "  ax=sn.heatmap(df_cm, annot=True,annot_kws={\"size\": 16})# font size\n",
        "  ax.set_title(title)\n",
        "  ax.set_xlabel('Predicted')\n",
        "  ax.set_ylabel('True')\n",
        "\n",
        "# Plot confusion matrix of Naive Bayes Classifier.\n",
        "plot_confusion_matrix(conf_matrix[8],'Naive Bayes Classifier')\n",
        "\n",
        "# Plot confusion matrix of MLP Classifier.\n",
        "plot_confusion_matrix(conf_matrix[6],'MLP Classifier')\n",
        "\n",
        "# Plot confusion matrix of RBF_SVM Classifier.\n",
        "plot_confusion_matrix(conf_matrix[1],'RBF_SVM Classifier')"
      ],
      "execution_count": 0,
      "outputs": [
        {
          "output_type": "display_data",
          "data": {
            "image/png": "[encoded data removed]",
            "text/plain": [
              "<Figure size 500x400 with 2 Axes>"
            ]
          },
          "metadata": {
            "tags": []
          }
        },
        {
          "output_type": "display_data",
          "data": {
            "image/png": "[encoded data removed]",
            "text/plain": [
              "<Figure size 500x400 with 2 Axes>"
            ]
          },
          "metadata": {
            "tags": []
          }
        },
        {
          "output_type": "display_data",
          "data": {
            "image/png": "[encoded data removed]",
            "text/plain": [
              "<Figure size 500x400 with 2 Axes>"
            ]
          },
          "metadata": {
            "tags": []
          }
        }
      ]
    },
    {
      "metadata": {
        "id": "KCfQNsry8uTC",
        "colab_type": "text"
      },
      "cell_type": "markdown",
      "source": [
        "## Winner of Classification Model: Naive Bayes Classifier\n",
        "### As we can see above, the precision of Naive Bayes Classifier is about 0.71, for MLP is 0.56, for RBF_SVM is 0.50. Therefore, the winner is Naive Bayes Classifier."
      ]
    },
    {
      "metadata": {
        "id": "bfDBVADHCirF",
        "colab_type": "text"
      },
      "cell_type": "markdown",
      "source": [
        "## 6. Conclusion.\n",
        "### In this assignment, I provide two approaches to optimize our bidding strategy. One is to use regression models to predict the ROI(return of investment) based on the user's profile; another approach is to use a classification model to classify our target customers. \n",
        "\n",
        "### In practice, two approaches can be combined to find an optimal credit assignment given a finite budget. For example,  given a collection of candidate users and their profile, we can use classification model to filter out the non-target users first, then we can use a regression model to predict the ROI for each target user. Finally, we can sort the target users based on their ROI value and choose the top n users for our advertisement campaign. \n",
        "\n",
        "### By doing that, we can reduce a considerable amount of unnecessary cost by selecting the most suitable users. Therefore, we implicitly optimized our bidding strategy. However, if we need to predict the best price for bidding in the campaign, we can train a regression model to predict the money we should spend on each selected user. I didn't implement such a model here because that required much more historical dataset and parameter-tunning to build a usable model. If you are interested, I am looking forward to discussing it with you in the next interview.\n",
        "\n",
        "### Thanks for reviewing my code, I am enjoying this assignment because I feel excited to find useful patterns of data by using machine learning techniques( using sk-learn libraries actually). Since I am just a beginner in data science so I might make some obvious mistakes somewhere, if you have any suggestions, please don't hesitate to tell me so I can do a better job next time. (liang.huang@student.uva.nl)."
      ]
    }
  ]
}